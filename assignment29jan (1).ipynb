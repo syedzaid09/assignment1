{
 "cells": [
  {
   "cell_type": "raw",
   "id": "a28645f8-8a64-4da5-91fb-44928993b845",
   "metadata": {},
   "source": [
    "Qus1.who developed python programming language?\n",
    "\n",
    "Ans1.Python is developed by Guido Van Rossum,a Dutch Scientist. created at center for Mathematics and Research, Netherland.\n",
    "it is inspired by another programming language called ABC.\n"
   ]
  },
  {
   "cell_type": "raw",
   "id": "a9716b92-aea5-4bda-95fe-1f512df0c57a",
   "metadata": {},
   "source": [
    "Qus2.which type of programming does python support ?\n",
    "\n",
    "ans2.python supports both the popular programming paradigms,procedure-oriented and object-oriented programing "
   ]
  },
  {
   "cell_type": "raw",
   "id": "fb44e0b1-d3b8-4f30-91f9-048022e2cf3c",
   "metadata": {},
   "source": [
    "Qus3.is python case sensitive when dealing with identifiers ?\n",
    "\n",
    "ans3.Yes, Python is a case-sensitive language. it treats uppercase and lowercase characters differently. This applies to identifiers too. You must avoid using the same name with different cases while naming identifiers."
   ]
  },
  {
   "cell_type": "raw",
   "id": "f549e8e4-9995-4d8c-b9c3-917ef4157c44",
   "metadata": {},
   "source": [
    "Qus4.what is the correct extension of the python file?\n",
    "\n",
    "ans4.The extensions for Python files are - .py\n"
   ]
  },
  {
   "cell_type": "raw",
   "id": "b8f87fae-d108-4bc2-8487-4a2e5fce3613",
   "metadata": {},
   "source": [
    "Qus5.is python code compiled or interpreted?\n",
    "\n",
    "ans5.python uses both a compiler as well as interpreter for converting our source code and running it.however,the compilation part is hidden from the programmer."
   ]
  },
  {
   "cell_type": "raw",
   "id": "47c0b686-9e7d-4b36-8e9e-5fb3b9e153c1",
   "metadata": {},
   "source": [
    "Qus6.Name a few blocks of code used to define in python language?\n",
    "\n",
    "Ans6.a module, a function body, and a class definition are few blocks of code used to define in python languages .\n"
   ]
  },
  {
   "cell_type": "raw",
   "id": "70bee950-1fe3-4758-be6c-ce3f2abb3463",
   "metadata": {},
   "source": [
    "Qus7.State a character used to give single-line comments in python?\n",
    "\n",
    "Ans7. # character used to give single-line comments in python"
   ]
  },
  {
   "cell_type": "raw",
   "id": "4b7237fc-b985-4e9f-a8f4-bbdb25259d5e",
   "metadata": {},
   "source": [
    "Qus8.Mention functions which can help us to find the version of python that we are currently workink on?\n",
    "Ans8.The function sys. version can help us to find the version of python that we are currently working on. "
   ]
  },
  {
   "cell_type": "raw",
   "id": "7e693947-7bf3-4b18-b82e-7993dcc2e726",
   "metadata": {},
   "source": [
    "Qus9.Python supports the creation of annonymous functions at runtime ,using a construct called_ _ _ _ _ \n",
    "Ans9.Python supports the creation of annonymous functions at runtime ,using a construct called lambda"
   ]
  },
  {
   "cell_type": "raw",
   "id": "928feeae-5778-464e-82f9-51fae52aee91",
   "metadata": {},
   "source": [
    "Qus10.what does pip stands for python?\n",
    "Ans10.pip stands for Preferred Installer Program"
   ]
  },
  {
   "cell_type": "raw",
   "id": "442627e4-0d33-49ec-853e-259fd00fd0dd",
   "metadata": {},
   "source": [
    "Qus11.Mention a few built-in functions in python?\n",
    "Ans11.A few of the frequently used built-in functions in Python programs are abs(x) for fetching the absolute value of x, bin() for getting the binary value, bool() for retrieving the boolean value of an object, list() for lists, len() to get the length of the value, open() to open the files, pow() for returning the power of a number, sum() for fetching the sum of the elements, reversed() for reversing the order, etc."
   ]
  },
  {
   "cell_type": "raw",
   "id": "bf0a6645-cd55-4ef4-8800-0f5404b2ebe3",
   "metadata": {},
   "source": [
    "Qus12.what is the maximum possible length of an identifier in python?\n",
    "Ans12.79 characters is the maximum possible length of an identifier in python."
   ]
  },
  {
   "cell_type": "raw",
   "id": "1b22e6ee-ae62-4bbb-b5a5-7ccd115ab14d",
   "metadata": {},
   "source": [
    "Qus13.what are the benefits is using python?\n",
    "Ans13. * Large developer community.\n",
    "       * Extensive libraries.\n",
    "       * Write less, do more. \n",
    "       * Portability.\n",
    "       * Wide range of use cases.\n",
    "       "
   ]
  },
  {
   "cell_type": "raw",
   "id": "9c4a532f-4e02-4129-9386-3af3d9de784e",
   "metadata": {},
   "source": [
    "Qus14.How is memory managed in python?\n",
    "Ans14.Memory management in Python involves a private heap containing all Python objects and data structures. The management of this private heap is ensured internally by the Python memory manager."
   ]
  },
  {
   "cell_type": "raw",
   "id": "7553fad4-2245-4e9d-bf6f-d0fd818ce0c5",
   "metadata": {},
   "source": [
    "Qus15.How to install Python on Windows and set path variables?\n",
    "Ans15.if you’ve installed Python in Windows using the default installation options, the path to the Python executable wasn’t added to the Windows Path variable. The Path variable lists the directories that will be searched for executables when you type a command in the command prompt. By adding the path to the Python executable, you will be able to access python.exe by typing the python keyword (you won’t need to specify the full path to the program).\n",
    "Consider what happens if we enter the python command in the command prompt and the path to that executable is not added to the Path variable.\n",
    "As you can see from the output above, the command was not found. To run python.exe, you need to specify the full path to the executable.\n",
    "To add the path to the python.exe file to the Path variable, start the Run box and enter sysdm.cpl.\n",
    "This should open up the System Properties window. Go to the Advanced tab and click the Environment Variables button.\n",
    "In the System variable window, find the Path variable and click Edit.\n",
    "Close all windows. Now you can run python.exe without specifying the full path to the file.\n",
    "\n",
    " "
   ]
  },
  {
   "cell_type": "raw",
   "id": "0aff5fe6-ca2f-4878-8adb-f01a73322903",
   "metadata": {},
   "source": [
    "Qus16.is indentation required in python?\n",
    "Ans16.the indentation in Python is very important. Python uses indentation to indicate a block of code.\n"
   ]
  },
  {
   "cell_type": "code",
   "execution_count": null,
   "id": "add6d252-959c-4585-9636-570b61cb85ea",
   "metadata": {},
   "outputs": [],
   "source": []
  }
 ],
 "metadata": {
  "kernelspec": {
   "display_name": "Python 3 (ipykernel)",
   "language": "python",
   "name": "python3"
  },
  "language_info": {
   "codemirror_mode": {
    "name": "ipython",
    "version": 3
   },
   "file_extension": ".py",
   "mimetype": "text/x-python",
   "name": "python",
   "nbconvert_exporter": "python",
   "pygments_lexer": "ipython3",
   "version": "3.10.8"
  }
 },
 "nbformat": 4,
 "nbformat_minor": 5
}
